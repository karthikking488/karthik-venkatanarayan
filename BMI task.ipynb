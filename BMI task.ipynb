{
 "cells": [
  {
   "cell_type": "code",
   "execution_count": 3,
   "id": "3e4fe9d7",
   "metadata": {},
   "outputs": [],
   "source": [
    "# load json data into data varaible \n",
    "data=[{\"Gender\": \"Male\", \"HeightCm\": 171, \"WeightKg\": 96 }, \n",
    "{ \"Gender\": \"Male\", \"HeightCm\": 161, \"WeightKg\": 85 }, \n",
    "{ \"Gender\": \"Male\", \"HeightCm\": 180, \"WeightKg\": 77 }, \n",
    "{ \"Gender\": \"Female\", \"HeightCm\": 166, \"WeightKg\": 62}, \n",
    "{\"Gender\": \"Female\", \"HeightCm\": 150, \"WeightKg\": 70}, \n",
    "{\"Gender\": \"Female\", \"HeightCm\": 167, \"WeightKg\": 82}] \n"
   ]
  },
  {
   "cell_type": "code",
   "execution_count": 4,
   "id": "31820dbe",
   "metadata": {},
   "outputs": [
    {
     "data": {
      "text/plain": [
       "[{'Gender': 'Male', 'HeightCm': 171, 'WeightKg': 96},\n",
       " {'Gender': 'Male', 'HeightCm': 161, 'WeightKg': 85},\n",
       " {'Gender': 'Male', 'HeightCm': 180, 'WeightKg': 77},\n",
       " {'Gender': 'Female', 'HeightCm': 166, 'WeightKg': 62},\n",
       " {'Gender': 'Female', 'HeightCm': 150, 'WeightKg': 70},\n",
       " {'Gender': 'Female', 'HeightCm': 167, 'WeightKg': 82}]"
      ]
     },
     "execution_count": 4,
     "metadata": {},
     "output_type": "execute_result"
    }
   ],
   "source": [
    "#json data stored in data varaible \n",
    "data"
   ]
  },
  {
   "cell_type": "code",
   "execution_count": 5,
   "id": "cfbaa550",
   "metadata": {},
   "outputs": [
    {
     "name": "stdout",
     "output_type": "stream",
     "text": [
      "Male 96 171 56.1 Very severely obese\n",
      "Male 85 161 52.8 Very severely obese\n",
      "Male 77 180 42.8 Very severely obese\n",
      "Female 62 166 37.3 severely obese\n",
      "Female 70 150 46.7 Very severely obese\n",
      "Female 82 167 49.1 Very severely obese\n"
     ]
    }
   ],
   "source": [
    "# Calculating BMI data for entire JSON OBJECT\n",
    "#bmi is initiated with zero\n",
    "bmi=0\n",
    "healthrisk=''\n",
    "# healthrisk value will be stored in list l\n",
    "l=[]\n",
    "#looping through jsonobject and calculating bmi\n",
    "for jsonobj in data :\n",
    "    #bmi is used for storing body mass by using formula WeightKg%HeightCm\n",
    "    #round of bmi to 1 decimal digit\n",
    "    bmi=round(jsonobj['WeightKg']/(jsonobj['HeightCm']/100),1)\n",
    "    #applying condition and deciding healthrisk and storing into list l \n",
    "    if bmi <18.4 :\n",
    "        healthrisk='Underweight'\n",
    "        l.append(healthrisk)\n",
    "        print(jsonobj['Gender'],jsonobj['WeightKg'],jsonobj['HeightCm'],bmi,healthrisk)\n",
    "    elif 18.5<=bmi<=24.9:\n",
    "        healthrisk='Normal weight'\n",
    "        l.append(healthrisk)\n",
    "        print(jsonobj['Gender'],jsonobj['WeightKg'],jsonobj['HeightCm'],bmi,healthrisk)\n",
    "    elif 25<=bmi<=29.9:\n",
    "        healthrisk='Overweight'\n",
    "        l.append(healthrisk)\n",
    "        print(jsonobj['Gender'],jsonobj['WeightKg'],jsonobj['HeightCm'],bmi,healthrisk)\n",
    "    elif 30<=bmi<=34.9:\n",
    "        healthrisk='Moderately obese'\n",
    "        l.append(healthrisk)\n",
    "        print(jsonobj['Gender'],jsonobj['WeightKg'],jsonobj['HeightCm'],bmi,healthrisk)\n",
    "    elif 35<=bmi<=39.9:\n",
    "        healthrisk='severely obese'\n",
    "        l.append(healthrisk)\n",
    "        print(jsonobj['Gender'],jsonobj['WeightKg'],jsonobj['HeightCm'],bmi,healthrisk)\n",
    "    else:\n",
    "        healthrisk='Very severely obese'\n",
    "        l.append(healthrisk)\n",
    "        print(jsonobj['Gender'],jsonobj['WeightKg'],jsonobj['HeightCm'],bmi,healthrisk)\n"
   ]
  },
  {
   "cell_type": "code",
   "execution_count": 6,
   "id": "52ca738c",
   "metadata": {},
   "outputs": [
    {
     "data": {
      "text/plain": [
       "['Very severely obese',\n",
       " 'Very severely obese',\n",
       " 'Very severely obese',\n",
       " 'severely obese',\n",
       " 'Very severely obese',\n",
       " 'Very severely obese']"
      ]
     },
     "execution_count": 6,
     "metadata": {},
     "output_type": "execute_result"
    }
   ],
   "source": [
    "#healthrisk will be stored in list l\n",
    "l"
   ]
  },
  {
   "cell_type": "code",
   "execution_count": 7,
   "id": "4e7ae18d",
   "metadata": {},
   "outputs": [],
   "source": [
    "#calculating overWeigtCount in provided json data \n",
    "overWeigtCount=0\n",
    "for i in l:\n",
    "    if i == \"Overweight\":\n",
    "        overWeigtCount+=1\n",
    "    "
   ]
  },
  {
   "cell_type": "code",
   "execution_count": 9,
   "id": "1a31ba33",
   "metadata": {},
   "outputs": [
    {
     "data": {
      "text/plain": [
       "0"
      ]
     },
     "execution_count": 9,
     "metadata": {},
     "output_type": "execute_result"
    }
   ],
   "source": [
    "overWeigtCount"
   ]
  },
  {
   "cell_type": "code",
   "execution_count": 16,
   "id": "c691e818",
   "metadata": {},
   "outputs": [],
   "source": [
    "def unittest_BMI_cal(Gender,WeightKg,HeightCm):\n",
    "    bmi=round(WeightKg/(HeightCm/100),1)\n",
    "    if bmi <18.4 :\n",
    "        s1='Underweight'\n",
    "    elif 18.5<=bmi<=24.9:\n",
    "        s1='Normal weight'\n",
    "    elif 25<=bmi<=29.9:\n",
    "        s1='Overweight'\n",
    "    elif 30<=bmi<=34.9:\n",
    "        s1='Moderately obese'\n",
    "    elif 35<=bmi<=39.9:\n",
    "        s1='severely obese'\n",
    "    else:\n",
    "        s1='Very severely obese'\n",
    "    print(Gender,WeightKg,HeightCm,bmi,s1)"
   ]
  },
  {
   "cell_type": "code",
   "execution_count": 15,
   "id": "ac518750",
   "metadata": {},
   "outputs": [
    {
     "name": "stdout",
     "output_type": "stream",
     "text": [
      "Male 50 171 29.2 Overweight\n"
     ]
    }
   ],
   "source": [
    "unittest_BMI_cal(\"Male\",50,171)"
   ]
  },
  {
   "cell_type": "code",
   "execution_count": 18,
   "id": "846f37f4",
   "metadata": {},
   "outputs": [
    {
     "name": "stdout",
     "output_type": "stream",
     "text": [
      "Female 10 170 5.9 Underweight\n"
     ]
    }
   ],
   "source": [
    "unittest_BMI_cal(\"Female\",10,170)"
   ]
  },
  {
   "cell_type": "code",
   "execution_count": null,
   "id": "d8d8ccfa",
   "metadata": {},
   "outputs": [],
   "source": []
  }
 ],
 "metadata": {
  "kernelspec": {
   "display_name": "Python 3",
   "language": "python",
   "name": "python3"
  },
  "language_info": {
   "codemirror_mode": {
    "name": "ipython",
    "version": 3
   },
   "file_extension": ".py",
   "mimetype": "text/x-python",
   "name": "python",
   "nbconvert_exporter": "python",
   "pygments_lexer": "ipython3",
   "version": "3.8.8"
  }
 },
 "nbformat": 4,
 "nbformat_minor": 5
}
